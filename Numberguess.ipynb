{
 "cells": [
  {
   "cell_type": "code",
   "execution_count": 12,
   "id": "92614c22",
   "metadata": {},
   "outputs": [
    {
     "name": "stdout",
     "output_type": "stream",
     "text": [
      "Too low!\n",
      "Too low!\n",
      "Too high!\n",
      "Too low!\n",
      "Too low!\n",
      "Too low!\n",
      "Too low!\n",
      "Too low!\n",
      "Too low!\n",
      "Too low!\n",
      "Attempts Made: 10\n",
      "Attempts Left: 0\n",
      "Number is 72\n"
     ]
    }
   ],
   "source": [
    "# TODO\n",
    "from random import randint\n",
    "guessnum= randint(1,101)\n",
    "a=0\n",
    "i=1\n",
    "for i in range(1,11):\n",
    "    b= int(input(\"Enter the number from 1 to 100:\"))\n",
    "    a+=1\n",
    "    if(b== guessnum):\n",
    "        print(\"Correct\")\n",
    "        break\n",
    "    elif(b<guessnum):\n",
    "        print(\"Too low!\")\n",
    "    elif(b>guessnum):\n",
    "        print(\"Too high!\")\n",
    "print(\"Attempts Made:\",a)\n",
    "print(\"Attempts Left:\",10-a)\n",
    "print(\"Number is\",guessnum)"
   ]
  }
 ],
 "metadata": {
  "kernelspec": {
   "display_name": ".venv",
   "language": "python",
   "name": "python3"
  },
  "language_info": {
   "codemirror_mode": {
    "name": "ipython",
    "version": 3
   },
   "file_extension": ".py",
   "mimetype": "text/x-python",
   "name": "python",
   "nbconvert_exporter": "python",
   "pygments_lexer": "ipython3",
   "version": "3.12.9"
  }
 },
 "nbformat": 4,
 "nbformat_minor": 5
}
