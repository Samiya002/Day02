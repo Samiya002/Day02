{
 "cells": [
  {
   "cell_type": "code",
   "execution_count": null,
   "id": "ea0aeb8c",
   "metadata": {},
   "outputs": [
    {
     "name": "stdout",
     "output_type": "stream",
     "text": [
      "{'various', 'They', 'support', 'data', 'a', 'are', 'powerful', 'flexible', 'type.', 'operations.', 'Sets', 'and'}\n",
      "{'Sets are a powerful and flexible data type', ' They support various operations'}\n"
     ]
    },
    {
     "data": {
      "text/plain": [
       "2"
      ]
     },
     "execution_count": 19,
     "metadata": {},
     "output_type": "execute_result"
    }
   ],
   "source": [
    "text1 = \"Sets are a powerful and flexible data type. They support various operations.\"\n",
    "words1 = text1. split()\n",
    "unique_words = set(words1)\n",
    "len(unique_words)\n",
    "print(unique_words)\n",
    "words2 = text1.split('.')\n",
    "set1 = set(words2)\n",
    "set1.remove('')\n",
    "print(set1)\n",
    "len(set1)"
   ]
  }
 ],
 "metadata": {
  "kernelspec": {
   "display_name": ".venv",
   "language": "python",
   "name": "python3"
  },
  "language_info": {
   "codemirror_mode": {
    "name": "ipython",
    "version": 3
   },
   "file_extension": ".py",
   "mimetype": "text/x-python",
   "name": "python",
   "nbconvert_exporter": "python",
   "pygments_lexer": "ipython3",
   "version": "3.12.9"
  }
 },
 "nbformat": 4,
 "nbformat_minor": 5
}
