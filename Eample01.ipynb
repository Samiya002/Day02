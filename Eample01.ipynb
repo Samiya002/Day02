{
 "cells": [
  {
   "cell_type": "code",
   "execution_count": 17,
   "id": "4b57ed17",
   "metadata": {},
   "outputs": [
    {
     "name": "stdout",
     "output_type": "stream",
     "text": [
      "Your total bill is $50.00\n"
     ]
    }
   ],
   "source": [
    "entry = input(\"Do you have any discount? (yes/no):\")\n",
    "entry = entry.upper()\n",
    "if entry == \"YES\":\n",
    "    print(\"Your total bill is $45.00\")\n",
    "elif entry == \"NO\":\n",
    "    print(\"Your total bill is $50.00\")\n",
    "else:\n",
    "    print(\"Invalid entry\")"
   ]
  },
  {
   "cell_type": "code",
   "execution_count": 16,
   "id": "6529e320",
   "metadata": {},
   "outputs": [
    {
     "name": "stdout",
     "output_type": "stream",
     "text": [
      "Consonent: n\n",
      "Vowel:     e\n",
      "Consonent: h\n",
      "Vowel:     a\n",
      "Vowel: 2\n",
      "Consonent: 2\n"
     ]
    }
   ],
   "source": [
    "a= input(\"Enter Name:\")\n",
    "a= a.lower()\n",
    "v=0\n",
    "c=0\n",
    "for i in range(0,len(a)):\n",
    "    if(a[i]=='a' or a[i]=='e' or a[i]=='i' or a[i]=='o' or a[i]=='u'):\n",
    "        print(f\"Vowel:     {a[i]}\")\n",
    "        v+=1\n",
    "    else:\n",
    "         print(f\"Consonent: {a[i]}\")\n",
    "         c+=1\n",
    "print(f\"Vowel: {v}\")\n",
    "print(f\"Consonent: {c}\")"
   ]
  }
 ],
 "metadata": {
  "kernelspec": {
   "display_name": ".venv",
   "language": "python",
   "name": "python3"
  },
  "language_info": {
   "codemirror_mode": {
    "name": "ipython",
    "version": 3
   },
   "file_extension": ".py",
   "mimetype": "text/x-python",
   "name": "python",
   "nbconvert_exporter": "python",
   "pygments_lexer": "ipython3",
   "version": "3.12.9"
  }
 },
 "nbformat": 4,
 "nbformat_minor": 5
}
